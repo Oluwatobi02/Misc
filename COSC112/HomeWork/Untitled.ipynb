{
 "cells": [
  {
   "cell_type": "code",
   "execution_count": 29,
   "id": "7f2c09ce-7a02-46c4-8503-ce2ff7150a1b",
   "metadata": {},
   "outputs": [
    {
     "name": "stdout",
     "output_type": "stream",
     "text": [
      "January  MLK  Garnet\n",
      "February  Valentines Day  Amethyst\n",
      "March  St. Patricks Day  Aquamarine\n",
      "April  April Fools Day  Diamond\n",
      "May  Cinco de Mayo  Emerald\n",
      "June  Fathers Day  Pearl\n",
      "July  4th of July  Ruby\n",
      "August  Left Handers Day  Peridot\n",
      "September  Labor Day  Sapphire\n",
      "October  Halloween  Tourmaline\n",
      "November  Thanksgiving  Topaz\n",
      "December  Christmas  Tanzanite\n"
     ]
    }
   ],
   "source": [
    "import pandas as pd\n",
    "df = pd.read_csv('text.csv')\n",
    "months = df['Month']\n",
    "major_holidays = df['Major Holiday']\n",
    "birth_stones = df['Birth Stone']\n",
    "for month, mh, bs in zip(months, major_holidays, birth_stones):\n",
    "    print(f\"{month}  {mh}  {bs}\")"
   ]
  },
  {
   "cell_type": "code",
   "execution_count": null,
   "id": "c243ec06-f038-450c-86ec-09b6695d285f",
   "metadata": {},
   "outputs": [],
   "source": []
  }
 ],
 "metadata": {
  "kernelspec": {
   "display_name": "Python 3 (ipykernel)",
   "language": "python",
   "name": "python3"
  },
  "language_info": {
   "codemirror_mode": {
    "name": "ipython",
    "version": 3
   },
   "file_extension": ".py",
   "mimetype": "text/x-python",
   "name": "python",
   "nbconvert_exporter": "python",
   "pygments_lexer": "ipython3",
   "version": "3.12.2"
  }
 },
 "nbformat": 4,
 "nbformat_minor": 5
}
